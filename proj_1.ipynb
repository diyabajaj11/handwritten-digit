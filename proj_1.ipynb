{
 "cells": [
  {
   "cell_type": "code",
   "execution_count": 50,
   "id": "cb46e1f0-dccb-402e-aef3-8297bdc91e97",
   "metadata": {},
   "outputs": [],
   "source": [
    "import cv2\n",
    "import matplotlib.pyplot as plt\n",
    "import os\n",
    "import numpy as np\n",
    "\n"
   ]
  },
  {
   "cell_type": "code",
   "execution_count": 52,
   "id": "169c009e-3dd2-4322-a9ed-ee1c59c831b3",
   "metadata": {},
   "outputs": [],
   "source": [
    "img=cv2.imread(r\"C:\\Users\\Admin\\Downloads\\one_two_three.jpeg\",cv2.IMREAD_GRAYSCALE)\n",
    "_,thresh=cv2.threshold(img,128,255,cv2.THRESH_BINARY_INV)"
   ]
  },
  {
   "cell_type": "code",
   "execution_count": 53,
   "id": "dd0a4251-47e0-4296-83fe-135ecdc7f6e4",
   "metadata": {},
   "outputs": [],
   "source": [
    "contours,_=cv2.findContours(thresh,cv2.RETR_EXTERNAL,cv2.CHAIN_APPROX_SIMPLE)"
   ]
  },
  {
   "cell_type": "code",
   "execution_count": 54,
   "id": "512da85d-ffe2-4b23-9bcf-a26cc1f308c3",
   "metadata": {},
   "outputs": [],
   "source": [
    "contours = sorted(contours, key=lambda c: cv2.boundingRect(c)[1]*img.shape[1] + cv2.boundingRect(c)[0])\n"
   ]
  },
  {
   "cell_type": "code",
   "execution_count": 55,
   "id": "4792fa5d-7cb3-4af3-b810-74c68f325490",
   "metadata": {},
   "outputs": [],
   "source": [
    "os.makedirs(\"digits_dataset\",exist_ok=True)"
   ]
  },
  {
   "cell_type": "code",
   "execution_count": 56,
   "id": "d1e6a7c0-86c2-440c-a04d-0b2c087cc026",
   "metadata": {},
   "outputs": [],
   "source": [
    "i=0\n",
    "for cnt in contours:\n",
    "    x,y,w,h=cv2.boundingRect(cnt)\n",
    "    if w>20 and h>20:\n",
    "        digit=thresh[y:y+h,x:x+w]\n",
    "        \n",
    "        digit=cv2.resize(digit,(28,28))\n",
    "        cv2.imwrite(f\"digits_dataset/digit_{i}.png\", digit)\n",
    "        i+=1"
   ]
  },
  {
   "cell_type": "code",
   "execution_count": 57,
   "id": "85292028-59dd-4d4b-b7aa-4e3639e73815",
   "metadata": {},
   "outputs": [
    {
     "name": "stdout",
     "output_type": "stream",
     "text": [
      "Saved 78 digit images\n"
     ]
    }
   ],
   "source": [
    "print(f\"Saved {i} digit images\")"
   ]
  },
  {
   "cell_type": "code",
   "execution_count": 61,
   "id": "3ea9e8c2-77f0-471b-8a16-d2a89fd4117a",
   "metadata": {},
   "outputs": [
    {
     "name": "stdout",
     "output_type": "stream",
     "text": [
      "Number of samples: 78\n",
      "Number of labels: 78\n"
     ]
    }
   ],
   "source": [
    "import cv2\n",
    "import numpy as np\n",
    "import os\n",
    "\n",
    "X = []\n",
    "y = []\n",
    "\n",
    "digit_folder = \"digits_dataset\"\n",
    "\n",
    "for filename in sorted(os.listdir(digit_folder)):\n",
    "    if filename.endswith(\".png\"):\n",
    "        path = os.path.join(digit_folder, filename)\n",
    "        img = cv2.imread(path, cv2.IMREAD_GRAYSCALE)\n",
    "        img = cv2.resize(img, (28, 28))\n",
    "        img = img.flatten()       # flatten to 1D\n",
    "        img = img / 255.0 \n",
    "        X.append(img)\n",
    "\n",
    "        # Assign labels manually (adjust according to your sheet order)\n",
    "        if \"digit_0\" in filename or \"digit_1\" in filename:\n",
    "            y.append(1)\n",
    "        elif \"digit_2\" in filename or \"digit_3\" in filename:\n",
    "            y.append(2)\n",
    "        else:\n",
    "            y.append(3)\n",
    "\n",
    "X = np.array(X)\n",
    "y = np.array(y)\n",
    "\n",
    "print(\"Number of samples:\", len(X))\n",
    "\n",
    "print(\"Number of labels:\", len(y))\n"
   ]
  },
  {
   "cell_type": "code",
   "execution_count": 62,
   "id": "538c1760-a44f-458e-a470-1b53fe484811",
   "metadata": {},
   "outputs": [
    {
     "name": "stdout",
     "output_type": "stream",
     "text": [
      "Accuracy: 56.25%\n"
     ]
    }
   ],
   "source": [
    "from sklearn.model_selection import train_test_split\n",
    "from sklearn.linear_model import LogisticRegression\n",
    "from sklearn.metrics import accuracy_score\n",
    "\n",
    "X_train, X_test, y_train, y_test = train_test_split(X, y, test_size=0.2, random_state=42)\n",
    "\n",
    "clf = LogisticRegression(max_iter=10000)\n",
    "clf.fit(X_train, y_train)\n",
    "\n",
    "y_pred = clf.predict(X_test)\n",
    "\n",
    "acc = accuracy_score(y_test, y_pred)\n",
    "print(f\"Accuracy: {acc*100:.2f}%\")\n"
   ]
  },
  {
   "cell_type": "code",
   "execution_count": null,
   "id": "ec19648c-1108-4315-ac3e-d7e0a7c00f87",
   "metadata": {},
   "outputs": [],
   "source": []
  },
  {
   "cell_type": "code",
   "execution_count": null,
   "id": "7a62f27d-e6b0-47c3-816e-94407aa839e2",
   "metadata": {},
   "outputs": [],
   "source": []
  }
 ],
 "metadata": {
  "kernelspec": {
   "display_name": "Python (myenv)",
   "language": "python",
   "name": "myenv"
  },
  "language_info": {
   "codemirror_mode": {
    "name": "ipython",
    "version": 3
   },
   "file_extension": ".py",
   "mimetype": "text/x-python",
   "name": "python",
   "nbconvert_exporter": "python",
   "pygments_lexer": "ipython3",
   "version": "3.13.2"
  }
 },
 "nbformat": 4,
 "nbformat_minor": 5
}
